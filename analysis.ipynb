{
 "cells": [
  {
   "cell_type": "markdown",
   "id": "dafb0fda",
   "metadata": {},
   "source": [
    "# Job Transition Analytics Project\n",
    "\n",
    "This notebook presents an exploratory data analysis and a predictive modeling approach on a synthetic dataset. The goal is to showcase skills relevant to business analysis, program management, and data analytics roles.\n"
   ]
  },
  {
   "cell_type": "code",
   "execution_count": null,
   "id": "4857ed07",
   "metadata": {},
   "outputs": [],
   "source": [
    "# Import libraries\n",
    "import pandas as pd\n",
    "import numpy as np\n",
    "import matplotlib.pyplot as plt\n",
    "import seaborn as sns\n",
    "from sklearn.model_selection import train_test_split\n",
    "from sklearn.linear_model import LinearRegression\n",
    "from sklearn.metrics import mean_absolute_error, mean_squared_error, r2_score\n",
    "\n",
    "# Display plots inline\n",
    "%matplotlib inline\n"
   ]
  },
  {
   "cell_type": "code",
   "execution_count": null,
   "id": "26b6e48b",
   "metadata": {},
   "outputs": [],
   "source": [
    "# Load the synthetic dataset\n",
    "df = pd.read_csv('synthetic_dataset.csv', parse_dates=['OrderDate'])\n",
    "df.head()\n"
   ]
  },
  {
   "cell_type": "code",
   "execution_count": null,
   "id": "f7aecf60",
   "metadata": {},
   "outputs": [],
   "source": [
    "# Summary statistics\n",
    "df.describe(include='all')\n"
   ]
  },
  {
   "cell_type": "code",
   "execution_count": null,
   "id": "5ef77b2f",
   "metadata": {},
   "outputs": [],
   "source": [
    "# Total revenue by region\n",
    "plt.figure(figsize=(8,5))\n",
    "sns.barplot(x='Region', y='Revenue', data=df, estimator=sum, ci=None)\n",
    "plt.title('Total Revenue by Region')\n",
    "plt.ylabel('Total Revenue')\n",
    "plt.show()\n"
   ]
  },
  {
   "cell_type": "code",
   "execution_count": null,
   "id": "d637f282",
   "metadata": {},
   "outputs": [],
   "source": [
    "# Revenue over time\n",
    "plt.figure(figsize=(10,5))\n",
    "df_sorted = df.sort_values('OrderDate')\n",
    "plt.plot(df_sorted['OrderDate'], df_sorted['Revenue'], marker='o', linestyle='-')\n",
    "plt.title('Revenue over Time')\n",
    "plt.xlabel('Order Date')\n",
    "plt.ylabel('Revenue')\n",
    "plt.xticks(rotation=45)\n",
    "plt.tight_layout()\n",
    "plt.show()\n"
   ]
  },
  {
   "cell_type": "code",
   "execution_count": null,
   "id": "90144664",
   "metadata": {},
   "outputs": [],
   "source": [
    "# Correlation heatmap\n",
    "plt.figure(figsize=(8,6))\n",
    "corr = df[['UnitsSold','UnitPrice','Revenue','Cost','Profit']].corr()\n",
    "sns.heatmap(corr, annot=True, cmap='viridis')\n",
    "plt.title('Correlation Heatmap')\n",
    "plt.show()\n"
   ]
  },
  {
   "cell_type": "code",
   "execution_count": null,
   "id": "6e075c3f",
   "metadata": {},
   "outputs": [],
   "source": [
    "# Predictive model: Predict revenue based on units sold and unit price\n",
    "\n",
    "# Feature matrix and target vector\n",
    "X = df[['UnitsSold', 'UnitPrice']]\n",
    "y = df['Revenue']\n",
    "\n",
    "# Train-test split\n",
    "X_train, X_test, y_train, y_test = train_test_split(X, y, test_size=0.2, random_state=42)\n",
    "\n",
    "# Linear regression model\n",
    "model = LinearRegression()\n",
    "model.fit(X_train, y_train)\n",
    "\n",
    "# Predictions\n",
    "preds = model.predict(X_test)\n",
    "\n",
    "# Evaluation metrics\n",
    "mae = mean_absolute_error(y_test, preds)\n",
    "mse = mean_squared_error(y_test, preds)\n",
    "r2 = r2_score(y_test, preds)\n",
    "\n",
    "print(f\"Mean Absolute Error: {mae:.2f}\")\n",
    "print(f\"Mean Squared Error: {mse:.2f}\")\n",
    "print(f\"R-squared: {r2:.2f}\")\n"
   ]
  },
  {
   "cell_type": "markdown",
   "id": "a07dcaa1",
   "metadata": {},
   "source": [
    "## Conclusion\n",
    "\n",
    "This notebook demonstrates how to work with a synthetic business dataset by performing exploratory data analysis and building a simple predictive model. The analysis highlights relationships between regions and revenue, trends over time, and correlations among numeric variables. Finally, a linear regression model is used to predict revenue using units sold and unit price, illustrating fundamental skills in data preprocessing, visualization, and modeling.\n"
   ]
  }
 ],
 "metadata": {},
 "nbformat": 4,
 "nbformat_minor": 5
}
